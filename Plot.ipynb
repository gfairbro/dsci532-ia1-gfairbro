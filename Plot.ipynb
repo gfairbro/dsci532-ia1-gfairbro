{
 "cells": [
  {
   "cell_type": "code",
   "execution_count": 13,
   "id": "1999abb7-c501-4acf-8cca-912078a9012b",
   "metadata": {},
   "outputs": [
    {
     "data": {
      "text/plain": [
       "DataTransformerRegistry.enable('default')"
      ]
     },
     "execution_count": 13,
     "metadata": {},
     "output_type": "execute_result"
    }
   ],
   "source": [
    "import pandas as pd\n",
    "import altair as alt\n",
    "alt.data_transformers.disable_max_rows()"
   ]
  },
  {
   "cell_type": "code",
   "execution_count": 39,
   "id": "91119714-b597-4afe-a4db-56c967beb8d3",
   "metadata": {},
   "outputs": [],
   "source": [
    "trees = pd.read_csv('trees.csv', sep=';')\n",
    "tree_neighbourhood = trees[trees['NEIGHBOURHOOD_NAME'] == \"KENSINGTON-CEDAR COTTAGE\"]\n",
    "tree_neighbourhood\n",
    "\n",
    "tree_plot = alt.Chart(tree_neighbourhood).mark_bar().encode(\n",
    "    x=alt.X('count()', axis=alt.Axis(title='Number of Trees')),\n",
    "    y=alt.X('COMMON_NAME:N', axis=alt.Axis(title='Tree Name'))\n",
    ").configure_mark(\n",
    "    opacity=0.6,\n",
    "    color='pink')\n",
    "tree_plot"
   ]
  },
  {
   "cell_type": "code",
   "execution_count": null,
   "id": "8e13923b-7c2f-4c99-8132-c8ed9b1e4d9c",
   "metadata": {},
   "outputs": [],
   "source": []
  }
 ],
 "metadata": {
  "kernelspec": {
   "display_name": "Python [conda env:532]",
   "language": "python",
   "name": "conda-env-532-py"
  },
  "language_info": {
   "codemirror_mode": {
    "name": "ipython",
    "version": 3
   },
   "file_extension": ".py",
   "mimetype": "text/x-python",
   "name": "python",
   "nbconvert_exporter": "python",
   "pygments_lexer": "ipython3",
   "version": "3.10.2"
  }
 },
 "nbformat": 4,
 "nbformat_minor": 5
}
